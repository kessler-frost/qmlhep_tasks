{
 "cells": [
  {
   "cell_type": "markdown",
   "metadata": {},
   "source": [
    "# Quantum Computing Tasks\n",
    "## Task 1: To perform basic quantum operations on qubits"
   ]
  },
  {
   "cell_type": "markdown",
   "metadata": {},
   "source": [
    "Importing Cirq and pi."
   ]
  },
  {
   "cell_type": "code",
   "execution_count": 1,
   "metadata": {},
   "outputs": [],
   "source": [
    "import cirq\n",
    "from math import pi"
   ]
  },
  {
   "cell_type": "markdown",
   "metadata": {},
   "source": [
    "Defining the number of qubits to be used and creating the circuit."
   ]
  },
  {
   "cell_type": "code",
   "execution_count": 2,
   "metadata": {},
   "outputs": [],
   "source": [
    "n_qubits = 5\n",
    "circuit = cirq.Circuit()\n",
    "\n",
    "# Creating those qubits\n",
    "qubits = [cirq.LineQubit(i) for i in range(n_qubits)]"
   ]
  },
  {
   "cell_type": "markdown",
   "metadata": {},
   "source": [
    "Applying Hadamard Gate to all qubits with ParallelGateOperations function which allows application of a gate to multiple qubits in a single Moment."
   ]
  },
  {
   "cell_type": "code",
   "execution_count": 3,
   "metadata": {},
   "outputs": [],
   "source": [
    "H = cirq.ParallelGateOperation(cirq.H, qubits)\n",
    "# Adding this operation to the circuit as a moment\n",
    "circuit.append([H])"
   ]
  },
  {
   "cell_type": "markdown",
   "metadata": {},
   "source": [
    "Applying CNOT Gate sequentially to the qubits."
   ]
  },
  {
   "cell_type": "code",
   "execution_count": 4,
   "metadata": {},
   "outputs": [],
   "source": [
    "for i in range(n_qubits - 1):\n",
    "    circuit.append([cirq.CNOT(qubits[i], qubits[i + 1])], cirq.InsertStrategy.NEW)"
   ]
  },
  {
   "cell_type": "markdown",
   "metadata": {},
   "source": [
    "Swapping the 0 and 4 qubits."
   ]
  },
  {
   "cell_type": "code",
   "execution_count": 5,
   "metadata": {},
   "outputs": [],
   "source": [
    "SWAP = cirq.SWAP(qubits[0], qubits[4])\n",
    "circuit.append([SWAP])"
   ]
  },
  {
   "cell_type": "markdown",
   "metadata": {},
   "source": [
    "Rotating X by pi/2 radians\n",
    "Note: Passing pi to the cirq.rx function instead of pi/2 since it halves the passed radians already."
   ]
  },
  {
   "cell_type": "code",
   "execution_count": 6,
   "metadata": {},
   "outputs": [],
   "source": [
    "phase_shift = cirq.rx(pi)\n",
    "ROTATE = cirq.ParallelGateOperation(phase_shift, qubits)\n",
    "circuit.append([ROTATE])"
   ]
  },
  {
   "cell_type": "markdown",
   "metadata": {},
   "source": [
    "Printing the obtained circuit now."
   ]
  },
  {
   "cell_type": "code",
   "execution_count": 7,
   "metadata": {},
   "outputs": [
    {
     "name": "stdout",
     "output_type": "stream",
     "text": [
      "0: ───H───@───────────────×───Rx(π)───\n",
      "          │               │\n",
      "1: ───H───X───@───────────┼───Rx(π)───\n",
      "              │           │\n",
      "2: ───H───────X───@───────┼───Rx(π)───\n",
      "                  │       │\n",
      "3: ───H───────────X───@───┼───Rx(π)───\n",
      "                      │   │\n",
      "4: ───H───────────────X───×───Rx(π)───\n"
     ]
    }
   ],
   "source": [
    "print(circuit)"
   ]
  },
  {
   "cell_type": "markdown",
   "metadata": {},
   "source": [
    "## Task 2: To plot a graph between rotating the x axis of a qubit and the subsequent probabilities obtained of getting its state as |0>"
   ]
  },
  {
   "cell_type": "markdown",
   "metadata": {},
   "source": [
    "Importing pyplot for generating graphs and creating a new circuit."
   ]
  },
  {
   "cell_type": "code",
   "execution_count": 8,
   "metadata": {},
   "outputs": [],
   "source": [
    "import matplotlib.pyplot as plt\n",
    "\n",
    "qubit = cirq.LineQubit(0)\n",
    "circuit = cirq.Circuit()"
   ]
  },
  {
   "cell_type": "markdown",
   "metadata": {},
   "source": [
    "Scale by which the x axis is to be rotated, e.g if the scale is 0.2 then after each moment the axis will be rotated by 0.2*pi radians."
   ]
  },
  {
   "cell_type": "code",
   "execution_count": 9,
   "metadata": {},
   "outputs": [],
   "source": [
    "rotation_scale = 0.25\n",
    "n_phase_shift_ops = int(2 / rotation_scale)"
   ]
  },
  {
   "cell_type": "markdown",
   "metadata": {},
   "source": [
    "For plotting the graph for every phase shift, initiating with no shift."
   ]
  },
  {
   "cell_type": "code",
   "execution_count": 10,
   "metadata": {},
   "outputs": [],
   "source": [
    "phase_shifts = [\"0pi\"]"
   ]
  },
  {
   "cell_type": "markdown",
   "metadata": {},
   "source": [
    "To get initial probability of the qubit being in |0> state. Always 1 since qubits in this case initial with |0> state unless an initial state is passed to the simulator."
   ]
  },
  {
   "cell_type": "code",
   "execution_count": 11,
   "metadata": {},
   "outputs": [],
   "source": [
    "circuit.append([cirq.I(qubit)])"
   ]
  },
  {
   "cell_type": "markdown",
   "metadata": {},
   "source": [
    "Getting results for a complete bloch circle rotation"
   ]
  },
  {
   "cell_type": "code",
   "execution_count": 12,
   "metadata": {},
   "outputs": [
    {
     "name": "stdout",
     "output_type": "stream",
     "text": [
      "0: ───I───Rx(0.5π)───Rx(0.5π)───Rx(0.5π)───Rx(0.5π)───Rx(0.5π)───Rx(0.5π)───Rx(0.5π)───Rx(0.5π)───\n"
     ]
    }
   ],
   "source": [
    "for i in range(n_phase_shift_ops):\n",
    "    phi_shift_gate = cirq.rx(2 * pi * rotation_scale)\n",
    "    circuit.append([phi_shift_gate(qubit)])\n",
    "\n",
    "    phase_shifts.append(str((i + 1) * rotation_scale) + \"pi\")\n",
    "\n",
    "# Shows the circuit\n",
    "print(circuit)"
   ]
  },
  {
   "cell_type": "markdown",
   "metadata": {},
   "source": [
    "Step wise simulation to get density matrix after each moment."
   ]
  },
  {
   "cell_type": "code",
   "execution_count": 13,
   "metadata": {},
   "outputs": [],
   "source": [
    "sim = cirq.DensityMatrixSimulator()\n",
    "stepwise_res = sim.simulate_moment_steps(circuit)"
   ]
  },
  {
   "cell_type": "markdown",
   "metadata": {},
   "source": [
    "Probabilities of measuring the state in |0> state after every phase shift."
   ]
  },
  {
   "cell_type": "code",
   "execution_count": 14,
   "metadata": {},
   "outputs": [],
   "source": [
    "probs = []\n",
    "\n",
    "for res in stepwise_res:\n",
    "    # Getting the |0> state probability\n",
    "    probs.append(res.density_matrix().real[0][0])"
   ]
  },
  {
   "cell_type": "code",
   "execution_count": 15,
   "metadata": {},
   "outputs": [
    {
     "data": {
      "image/png": "[encoded data removed]",
      "text/plain": [
       "<Figure size 432x288 with 1 Axes>"
      ]
     },
     "metadata": {
      "needs_background": "light"
     },
     "output_type": "display_data"
    }
   ],
   "source": [
    "# Plotting the graph\n",
    "%matplotlib inline\n",
    "\n",
    "plt.plot(phase_shifts, probs)\n",
    "plt.xlabel(\"Phase Shifts\")\n",
    "plt.ylabel(\"Probability of measuring the state in |0> state\")\n",
    "plt.show()"
   ]
  },
  {
   "cell_type": "code",
   "execution_count": null,
   "metadata": {},
   "outputs": [],
   "source": []
  }
 ],
 "metadata": {
  "file_extension": ".py",
  "kernelspec": {
   "display_name": "Python 3.7.4 64-bit",
   "language": "python",
   "name": "python37464bit5120d2e5bf604c08ae500d625549ca25"
  },
  "language_info": {
   "codemirror_mode": {
    "name": "ipython",
    "version": 3
   },
   "file_extension": ".py",
   "mimetype": "text/x-python",
   "name": "python",
   "nbconvert_exporter": "python",
   "pygments_lexer": "ipython3",
   "version": "3.7.4"
  },
  "mimetype": "text/x-python",
  "name": "python",
  "npconvert_exporter": "python",
  "pygments_lexer": "ipython3",
  "version": 3
 },
 "nbformat": 4,
 "nbformat_minor": 2
}
